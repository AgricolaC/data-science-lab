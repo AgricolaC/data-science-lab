{
 "cells": [
  {
   "cell_type": "markdown",
   "id": "b13071fd-4c73-4f99-b422-afc55a9080da",
   "metadata": {},
   "source": [
    "oad the previously downloaded Citybik.es dataset as a Python dictionary. You can make use of the\n",
    "json module presented. You can find the full documentation for the json module here. After the\n",
    "dictionary is loaded, explore its contents from an interactive shell"
   ]
  },
  {
   "cell_type": "code",
   "execution_count": 3,
   "id": "cfa560ce-269e-49d0-bf33-f76c3f62cbd8",
   "metadata": {},
   "outputs": [],
   "source": [
    "import json\n",
    "with open(\"to-bike.json\") as f:\n",
    "    dataset = json.load(f)\n",
    "    "
   ]
  },
  {
   "cell_type": "code",
   "execution_count": 4,
   "id": "2a7bbc02-f3a2-42b1-9d9f-39c12a0de1f0",
   "metadata": {},
   "outputs": [
    {
     "data": {
      "text/plain": [
       "dict_keys(['network'])"
      ]
     },
     "execution_count": 4,
     "metadata": {},
     "output_type": "execute_result"
    }
   ],
   "source": [
    "dataset.keys()"
   ]
  },
  {
   "cell_type": "code",
   "execution_count": 5,
   "id": "b36b41ca-db73-441a-a859-53d8ce74ea8a",
   "metadata": {},
   "outputs": [
    {
     "data": {
      "text/plain": [
       "dict"
      ]
     },
     "execution_count": 5,
     "metadata": {},
     "output_type": "execute_result"
    }
   ],
   "source": [
    "type(dataset[\"network\"])"
   ]
  },
  {
   "cell_type": "code",
   "execution_count": 6,
   "id": "c13cf779-7553-4df9-9506-ecdb950283a5",
   "metadata": {},
   "outputs": [
    {
     "data": {
      "text/plain": [
       "dict_keys(['id', 'name', 'location', 'href', 'company', 'system', 'source', 'stations'])"
      ]
     },
     "execution_count": 6,
     "metadata": {},
     "output_type": "execute_result"
    }
   ],
   "source": [
    "dataset[\"network\"].keys()"
   ]
  },
  {
   "cell_type": "code",
   "execution_count": 7,
   "id": "9226f971-f176-4411-8d58-6ae612fa686e",
   "metadata": {},
   "outputs": [
    {
     "data": {
      "text/plain": [
       "list"
      ]
     },
     "execution_count": 7,
     "metadata": {},
     "output_type": "execute_result"
    }
   ],
   "source": [
    "\n",
    "\n",
    "type(dataset[\"network\"][\"stations\"])\n",
    "\n"
   ]
  },
  {
   "cell_type": "code",
   "execution_count": 17,
   "id": "489f91b1-3421-4a92-aad9-b8c5efeb18aa",
   "metadata": {},
   "outputs": [
    {
     "data": {
      "text/plain": [
       "{'id': '8c12fcd7311c98e9a948af38caa4d051',\n",
       " 'name': '01. Certosa / P.le Avis',\n",
       " 'latitude': 45.084126990755045,\n",
       " 'longitude': 7.575631141662598,\n",
       " 'timestamp': '2024-10-27T04:10:47.675366Z',\n",
       " 'free_bikes': 5,\n",
       " 'empty_slots': 3,\n",
       " 'extra': {'uid': '529',\n",
       "  'number': 1,\n",
       "  'status': 'offline',\n",
       "  'score': 3.0,\n",
       "  'reviews': 28}}"
      ]
     },
     "execution_count": 17,
     "metadata": {},
     "output_type": "execute_result"
    }
   ],
   "source": [
    "dataset[\"network\"][\"stations\"][5]"
   ]
  },
  {
   "cell_type": "markdown",
   "id": "70d76780-6e2a-4740-95ac-506879056dd6",
   "metadata": {},
   "source": [
    "Count and print the number of active stations (a station is active if its extra.status field is \"online\")"
   ]
  },
  {
   "cell_type": "code",
   "execution_count": 22,
   "id": "cf435732-cc0c-436b-8488-a79e601ad57f",
   "metadata": {},
   "outputs": [
    {
     "name": "stdout",
     "output_type": "stream",
     "text": [
      "Number of active stations 1\n"
     ]
    }
   ],
   "source": [
    "all_stations = dataset[\"network\"][\"stations\"]\n",
    "active_stations = [ station for station in all_stations if station[\"extra\"][\"status\"] == \"online\" ]\n",
    "print(\"Number of active stations\", len(active_stations))"
   ]
  },
  {
   "cell_type": "markdown",
   "id": "3a651f59-4b06-4974-8ea1-4a9501c92eb9",
   "metadata": {},
   "source": [
    "Count and print the total number of bikes available (field free_bikes) and the number of free docks\n",
    "(field empty_slots) throughout all stations."
   ]
  },
  {
   "cell_type": "code",
   "execution_count": 23,
   "id": "f2ae9d60-2c40-4ef7-9141-fe937e1034f8",
   "metadata": {},
   "outputs": [
    {
     "name": "stdout",
     "output_type": "stream",
     "text": [
      "Bikes available 95\n",
      "Free docks 57\n"
     ]
    }
   ],
   "source": [
    "bikes_avail = sum([station[\"free_bikes\"] for station in all_stations])\n",
    "free_docks = sum([ station[\"empty_slots\"] for station in all_stations])\n",
    "print(\"Bikes available\", bikes_avail)\n",
    "print(\"Free docks\", free_docks)"
   ]
  },
  {
   "cell_type": "markdown",
   "id": "733ffaab-5ba9-4194-952f-714b48f34e75",
   "metadata": {},
   "source": [
    "(*) Given the coordinates (latitude, longitude) of a point (e.g. 45.074512, 7.694419), identify the\n",
    "closest bike station to it that has available bikes. For computing the distance among two points\n",
    "(given their coordinates), you can use the function distance_coords() defined in the code snippet\n",
    "below (which is an implementation of the great-circle distance):"
   ]
  },
  {
   "cell_type": "code",
   "execution_count": 27,
   "id": "5ae78524-c76c-48b6-b36b-4ead34fe6f1e",
   "metadata": {},
   "outputs": [],
   "source": [
    "from math import cos, acos, sin\n",
    "\n",
    "def distance_coords(lat1, lng1, lat2, lng2):\n",
    "    deg2rad = lambda x: x * 3.141592 / 180\n",
    "    lat1, lng1, lat2, lng2 = map(deg2rad, [ lat1, lng1, lat2, lng2 ])\n",
    "    R = 6378100 # Radius of the Earth, in meters\n",
    "    return R * acos(sin(lat1) * sin(lat2) + cos(lat1) * cos(lat2) * cos(lng1 - lng2))"
   ]
  },
  {
   "cell_type": "code",
   "execution_count": 38,
   "id": "76cc7442-af2e-4f5b-8530-113f3be2fc2b",
   "metadata": {},
   "outputs": [
    {
     "name": "stdout",
     "output_type": "stream",
     "text": [
      "closest station is: 10. Gallo Praile\n",
      "6128.518994474587\n"
     ]
    }
   ],
   "source": [
    "lat2 = 45.074512\n",
    "lng2 = 7.694419\n",
    "for i in range(len(all_stations)):\n",
    "    current_station = all_stations[i]\n",
    "    lat,long = current_station[\"latitude\"],current_station[\"longitude\"]\n",
    "    distance = distance_coords(lat,long,lat2,lng2)\n",
    "    if i == 0 and station[\"free_bikes\"] > 0:\n",
    "        closest_station = current_station\n",
    "        min_distance = distance\n",
    "    else:\n",
    "        if (distance < min_distance and station[\"free_bikes\"] > 0):\n",
    "            min_distance = distance\n",
    "            closest_station = current_station\n",
    "            \n",
    "print(\"closest station is: \"+ closest_station[\"name\"])        \n",
    "print(min_distance)    "
   ]
  },
  {
   "cell_type": "code",
   "execution_count": 33,
   "id": "27dd474b-09f9-4f30-ae6c-a2b0977491ad",
   "metadata": {},
   "outputs": [
    {
     "name": "stdout",
     "output_type": "stream",
     "text": [
      "Closest station: 09. Rigola\n",
      "Distance: 6219.58278998704 meters\n"
     ]
    }
   ],
   "source": [
    "def distance_from_point(dataset, lat, lng):\n",
    "    closest = (None, None)\n",
    "    for station in all_stations:\n",
    "        closest_station, closest_distance = closest\n",
    "        current_distance = distance_coords(lat,lng,station[\"latitude\"], station[\"longitude\"])\n",
    "\n",
    "        if station[\"free_bikes\"] > 0 and (closest_distance is None or current_distance < closest_distance):\n",
    "            closest = (station, current_distance)\n",
    "    return closest\n",
    "\n",
    "station, distance = distance_from_point(dataset, 45.074512, 7.694419)\n",
    "print(\"Closest station:\", station[\"name\"])\n",
    "print(\"Distance:\", distance, \"meters\")"
   ]
  },
  {
   "cell_type": "code",
   "execution_count": 40,
   "id": "d69faa23-c27c-470d-8276-8443a770cc90",
   "metadata": {},
   "outputs": [
    {
     "data": {
      "text/plain": [
       "{'id': '0df8838da4cf2ffe0eaf28629b902dd7',\n",
       " 'name': '01. Municipio',\n",
       " 'latitude': 45.094383006473215,\n",
       " 'longitude': 7.524325847625732,\n",
       " 'timestamp': '2024-10-27T04:10:47.783380Z',\n",
       " 'free_bikes': 5,\n",
       " 'empty_slots': 3,\n",
       " 'extra': {'uid': '594',\n",
       "  'number': 1,\n",
       "  'status': 'offline',\n",
       "  'score': 2.1,\n",
       "  'reviews': 16}}"
      ]
     },
     "execution_count": 40,
     "metadata": {},
     "output_type": "execute_result"
    }
   ],
   "source": [
    "max(all_stations, key=lambda station: station[\"free_bikes\"])\n"
   ]
  },
  {
   "cell_type": "code",
   "execution_count": 44,
   "id": "47945f93-8a5c-44b4-b3ee-df577be0b3e6",
   "metadata": {},
   "outputs": [
    {
     "name": "stdout",
     "output_type": "stream",
     "text": [
      "Closest station: 09. Rigola\n",
      "Distance: 6219.58278998704 meters\n",
      "Number of available bikes: 5\n"
     ]
    }
   ],
   "source": [
    "def distance_from_point_pro(dataset,lat,lng):\n",
    "    tup = [(station, distance_coords(lat,lng,station[\"latitude\"], station[\"longitude\"])) for station in all_stations if station[\"free_bikes\"] > 0]\n",
    "    return min(tup , key = lambda tup: tup[1])\n",
    "\n",
    "station, distance = distance_from_point_pro(dataset, 45.074512,7.694419)\n",
    "print(\"Closest station:\", station[\"name\"])\n",
    "print(\"Distance:\", distance, \"meters\")\n",
    "print(\"Number of available bikes:\", station[\"free_bikes\"])"
   ]
  },
  {
   "cell_type": "code",
   "execution_count": null,
   "id": "fc81e0cc-7d09-49b4-bed8-a743f330c687",
   "metadata": {},
   "outputs": [],
   "source": []
  }
 ],
 "metadata": {
  "kernelspec": {
   "display_name": "Python 3 (ipykernel)",
   "language": "python",
   "name": "python3"
  },
  "language_info": {
   "codemirror_mode": {
    "name": "ipython",
    "version": 3
   },
   "file_extension": ".py",
   "mimetype": "text/x-python",
   "name": "python",
   "nbconvert_exporter": "python",
   "pygments_lexer": "ipython3",
   "version": "3.12.7"
  }
 },
 "nbformat": 4,
 "nbformat_minor": 5
}
