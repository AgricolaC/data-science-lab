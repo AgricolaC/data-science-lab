{
 "cells": [
  {
   "cell_type": "code",
   "execution_count": 37,
   "id": "f3f729aa-a654-4f2a-87e3-d56de79ac47c",
   "metadata": {},
   "outputs": [],
   "source": [
    "import csv\n",
    "import math\n",
    "\n",
    "dataset = [ [], [], [], [], [] ]\n",
    "measurements = [ \"sepal length\", \"sepal width\", \"petal length\", \"petal width\" ]\n",
    "\n",
    "with open(\"iris.data\") as f:\n",
    "    for row in csv.reader(f):\n",
    "        if len(row) == 5:\n",
    "            for i in range(4):\n",
    "                dataset[i].append(float(row[i]))\n",
    "              #position 4 is a string, namely the iris type\n",
    "            \n",
    "            dataset[4].append(row[4])\n",
    "\n",
    "iris_types = set(dataset[4])\n"
   ]
  },
  {
   "cell_type": "code",
   "execution_count": 13,
   "id": "5979d3b3-9324-4e10-bd1c-3366e244132f",
   "metadata": {},
   "outputs": [],
   "source": [
    "\n",
    "def mean(data):\n",
    "    return sum(x) / len(x)"
   ]
  },
  {
   "cell_type": "code",
   "execution_count": 42,
   "id": "d8742678-4722-4303-9171-2611494da8e2",
   "metadata": {},
   "outputs": [],
   "source": [
    "def stdev(data):\n",
    "    u = mean(data)\n",
    "    return   (mean([ (x_i - u) ** 2 for x_i in data ]))**0.5  \n",
    "\n",
    "\n"
   ]
  },
  {
   "cell_type": "code",
   "execution_count": 59,
   "id": "45ff5fed-4cbf-49c6-994a-f3a10e9e9f19",
   "metadata": {},
   "outputs": [
    {
     "name": "stdout",
     "output_type": "stream",
     "text": [
      "sepal length\n",
      "Iris-setosa 5.0060 0.3489\n",
      "Iris-versicolor 5.9360 0.5110\n",
      "Iris-virginica 6.5880 0.6295\n",
      "\n",
      "sepal width\n",
      "Iris-setosa 3.4180 0.3772\n",
      "Iris-versicolor 2.7700 0.3106\n",
      "Iris-virginica 2.9740 0.3193\n",
      "\n",
      "petal length\n",
      "Iris-setosa 1.4640 0.1718\n",
      "Iris-versicolor 4.2600 0.4652\n",
      "Iris-virginica 5.5520 0.5463\n",
      "\n",
      "petal width\n",
      "Iris-setosa 0.2440 0.1061\n",
      "Iris-versicolor 1.3260 0.1958\n",
      "Iris-virginica 2.0260 0.2719\n",
      "\n"
     ]
    }
   ],
   "source": [
    "\n",
    "\n",
    "for i, m in enumerate(measurements):\n",
    "    print(m)\n",
    "    for iris_type in iris_types:\n",
    "        # For each measurement and for each iris type, build a list of values\n",
    "        values = [ v for v,t in zip(dataset[i], dataset[4]) if t == iris_type ]\n",
    "        print(f\"{iris_type} {mean(values):.4f} {stdev(values):.4f}\")\n",
    "    print()\n",
    "\n"
   ]
  },
  {
   "cell_type": "code",
   "execution_count": 60,
   "id": "4b9c42ec-3288-4593-a874-21b870ddbae1",
   "metadata": {},
   "outputs": [],
   "source": [
    "flower_ex1 = [5.2, 3.1, 4.0, 1.2]\n",
    "flower_ex2 = [4.9, 2.5, 5.6, 2.0]\n",
    "flower_ex3 = [5.4, 3.2, 1.9, 0.4]\n"
   ]
  },
  {
   "cell_type": "markdown",
   "id": "baae6484-cce0-423e-a844-09231c408117",
   "metadata": {},
   "source": [
    "Flower 1 is probably a versicolor because of the identifying petal length.\n",
    "\n",
    "Flower 2 is a virginica because of the petal width.\n",
    "\n",
    "Flower 3 is a setosa considering all classifiers"
   ]
  },
  {
   "cell_type": "code",
   "execution_count": 65,
   "id": "a8d6adb1-ea1a-49b6-8e47-9ea168c19cf6",
   "metadata": {},
   "outputs": [],
   "source": [
    "import matplotlib.pyplot as plt\n",
    "%matplotlib inline\n",
    "from scipy.stats import norm\n",
    "import numpy as np\n",
    "\n",
    "colors = ['b','g','r']\n",
    "for i, m in enumerate(measurements):\n",
    "    plt.figure()\n",
    "    plt.title(m)\n",
    "    for iris_type, color in zip(iris_types, colors):\n",
    "        # For each measurement and for each type of iris, build a list of values\n",
    "        values = [ v for v,t in zip(dataset[i], dataset[4]) if t == iris_type ]\n",
    "        plt.hist(values, density=True, alpha=0.2, color=color)\n",
    "        u = mean(values)\n",
    "        s = stdev(values)\n",
    "        x = np.linspace(u-5*s, u+5*s, 100)\n",
    "        plt.plot(x, norm(u,s).pdf(x), label=iris_type, color=color)\n",
    "        plt.xlabel(f\"{m} (cm)\")\n",
    "        plt.ylabel(\"density\")\n",
    "    plt.legend()"
   ]
  },
  {
   "cell_type": "code",
   "execution_count": null,
   "id": "e275d59e-2de3-41a4-9205-4bdd2efa191c",
   "metadata": {},
   "outputs": [],
   "source": []
  }
 ],
 "metadata": {
  "kernelspec": {
   "display_name": "Python 3 (ipykernel)",
   "language": "python",
   "name": "python3"
  },
  "language_info": {
   "codemirror_mode": {
    "name": "ipython",
    "version": 3
   },
   "file_extension": ".py",
   "mimetype": "text/x-python",
   "name": "python",
   "nbconvert_exporter": "python",
   "pygments_lexer": "ipython3",
   "version": "3.12.7"
  }
 },
 "nbformat": 4,
 "nbformat_minor": 5
}
