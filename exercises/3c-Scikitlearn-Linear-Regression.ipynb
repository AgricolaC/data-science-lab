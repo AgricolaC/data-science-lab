{
 "cells": [
  {
   "cell_type": "code",
   "execution_count": null,
   "metadata": {},
   "outputs": [],
   "source": [
    "%matplotlib inline\n",
    "import matplotlib.pyplot as plt\n",
    "import numpy as np"
   ]
  },
  {
   "cell_type": "markdown",
   "metadata": {},
   "source": [
    "# 1. Simple linear regression\n",
    "## 1.1 Generating a dataset"
   ]
  },
  {
   "cell_type": "code",
   "execution_count": null,
   "metadata": {
    "scrolled": false
   },
   "outputs": [],
   "source": [
    "# Make dataset\n",
    "x_train = 10*np.random.rand(100)         # 100 data points in [0, 10]\n",
    "\n",
    "noise = np.random.normal(0,1, 100)       # gaussian data, mean=0, std=1\n",
    "y_train = (2*x_train + 8) + noise        # target is a linear function of the input with some noise"
   ]
  },
  {
   "cell_type": "code",
   "execution_count": null,
   "metadata": {},
   "outputs": [],
   "source": [
    "# Plots\n",
    "plt.scatter(x_train, y_train, s=10, c='grey')\n",
    "plt.show()"
   ]
  },
  {
   "cell_type": "markdown",
   "metadata": {},
   "source": [
    "## 1.2 Training and fitting a regression model"
   ]
  },
  {
   "cell_type": "code",
   "execution_count": null,
   "metadata": {
    "scrolled": true
   },
   "outputs": [],
   "source": [
    "from sklearn.linear_model import LinearRegression\n",
    "\n",
    "# Train Regression\n",
    "reg = ??\n",
    "??\n",
    "\n",
    "# Predict for 50 equally spaced values in [0, 10]\n",
    "x_test = np.linspace(0, 10, 50)\n",
    "y_test = ??\n",
    "\n",
    "# Plots\n",
    "plt.scatter(x_train, y_train, s=10, c='grey')\n",
    "plt.plot(x_test, y_test)\n",
    "plt.show()"
   ]
  },
  {
   "cell_type": "markdown",
   "metadata": {},
   "source": [
    "## 1.3 Evaluating regression\n",
    "- Use cross-validation with k=5 folds"
   ]
  },
  {
   "cell_type": "code",
   "execution_count": null,
   "metadata": {
    "scrolled": true
   },
   "outputs": [],
   "source": [
    "from sklearn.model_selection import cross_val_score\n",
    "\n",
    "reg = LinearRegression()\n",
    "r2 = cross_val_score(reg, x_train[:, np.newaxis], y_train, cv=5, scoring='r2')\n",
    "mae = -cross_val_score(reg, x_train[:, np.newaxis], y_train, cv=5, scoring='neg_mean_absolute_error')\n",
    "mse = -cross_val_score(reg, x_train[:, np.newaxis], y_train, cv=5, scoring='neg_mean_squared_error')"
   ]
  },
  {
   "cell_type": "code",
   "execution_count": null,
   "metadata": {},
   "outputs": [],
   "source": [
    "# Description of target data\n",
    "print(f\"Variance(y_train) = {y_train.var()}\")\n",
    "print(f\"Std(y_train) = {y_train.std()}\")\n",
    "print(f\"y_train ranges approximately in {y_train.mean():.2f} +- {y_train.std()*2:.2f}\")\n",
    "\n",
    "# Print scores for each partition\n",
    "print(\"\\nAveraged cross-validation scores:\")\n",
    "print(f\"MSE = {mse.mean():.2f}, MAE = {mae.mean():.2f}\")\n",
    "print(f\"R2 = 1-MSE/var = {r2.mean():.2f}\")"
   ]
  },
  {
   "cell_type": "markdown",
   "metadata": {},
   "source": [
    "# 2. Linear regression with multiple input features"
   ]
  },
  {
   "cell_type": "markdown",
   "metadata": {},
   "source": [
    "## 2.1 Generating a dataset"
   ]
  },
  {
   "cell_type": "code",
   "execution_count": null,
   "metadata": {},
   "outputs": [],
   "source": [
    "# Make dataset\n",
    "X_train = 10*np.random.rand(1000, 2)    # 1000 data points, 2 features (x0, x1) in the range [0, 10]\n",
    "\n",
    "noise = np.random.normal(0,2, 1000)     # 1000 points from gaussian, mean=0, std=2\n",
    "y_train = (-2*X_train[:,0] + 2*X_train[:,1]  + 2) + noise"
   ]
  },
  {
   "cell_type": "code",
   "execution_count": null,
   "metadata": {},
   "outputs": [],
   "source": [
    "# Plots\n",
    "from mpl_toolkits.mplot3d import Axes3D\n",
    "fig = plt.figure()\n",
    "ax = fig.add_subplot(111, projection='3d')\n",
    "ax.scatter(X_train[:,0], X_train[:,1], y_train, s=10, c=y_train)\n",
    "ax.set_xlabel('x0')\n",
    "ax.set_ylabel('x1')\n",
    "ax.set_zlabel('y')\n",
    "plt.tight_layout()\n",
    "plt.show()"
   ]
  },
  {
   "cell_type": "markdown",
   "metadata": {},
   "source": [
    "## 2.2 Training and fitting a regression model"
   ]
  },
  {
   "cell_type": "code",
   "execution_count": null,
   "metadata": {
    "scrolled": true
   },
   "outputs": [],
   "source": [
    "# Train regression\n",
    "reg = LinearRegression()\n",
    "reg.fit(X_train, y_train)\n",
    "\n",
    "# Make a grid of 50 equally spaced values\n",
    "values = np.linspace(0,1,50)\n",
    "x_test = np.array([[x0, x1] for x0 in values for x1 in values])\n",
    "# Predict values on the grid\n",
    "y_test = reg.predict(x_test)\n",
    "\n",
    "# Plot\n",
    "fig = plt.figure()\n",
    "ax = fig.add_subplot(111, projection='3d')\n",
    "ax.scatter(x_test[:,0], x_test[:,1], y_test, s=10, c=y_test)\n",
    "ax.set_xlabel('x0')\n",
    "ax.set_ylabel('x1')\n",
    "ax.set_zlabel('y')\n",
    "plt.tight_layout()\n",
    "plt.show()"
   ]
  }
 ],
 "metadata": {
  "kernelspec": {
   "display_name": "Python 3",
   "language": "python",
   "name": "python3"
  },
  "language_info": {
   "codemirror_mode": {
    "name": "ipython",
    "version": 3
   },
   "file_extension": ".py",
   "mimetype": "text/x-python",
   "name": "python",
   "nbconvert_exporter": "python",
   "pygments_lexer": "ipython3",
   "version": "3.6.8"
  }
 },
 "nbformat": 4,
 "nbformat_minor": 2
}
