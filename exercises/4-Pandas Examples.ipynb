{
 "cells": [
  {
   "cell_type": "markdown",
   "metadata": {},
   "source": [
    "# Pandas Examples"
   ]
  },
  {
   "cell_type": "markdown",
   "metadata": {},
   "source": [
    "## 1) Accessing DataFrames and Series"
   ]
  },
  {
   "cell_type": "code",
   "execution_count": null,
   "metadata": {},
   "outputs": [],
   "source": [
    "#Input data\n",
    "import pandas as pd\n",
    "import numpy as np\n",
    "\n",
    "# Input table (12 samples x 4 attributes)\n",
    "X = np.array([[5.1, 3.5, 1, 0.2],\n",
    "           [4.3, 3. , 1, 0.1],\n",
    "           [5. , np.nan, 1, 0.4],\n",
    "           [5.1, 3.4, 2, 0.2],\n",
    "           [6.9, 3.1, 3, 1.5],\n",
    "           [6.7, 3.1, 1, np.nan],\n",
    "           [6. , 2.9, 2, 1.5],\n",
    "           [6.1, 3. , 2, 1.4],\n",
    "           [6.5, 3. , 3, 2.2],\n",
    "           [7.7, 3.8, 3, 2.2],\n",
    "           [7.4, 2.8, 1, 1.9],\n",
    "           [6.8, 3.2, 1, 2.3]])\n",
    "# Column names\n",
    "columns = ['height','width','intensity','weight']\n",
    "\n",
    "# Class label of each sample\n",
    "labels = np.array([0, 0, 0, 0, 1, 1, 1, 1, 2, 2, 2, 2])"
   ]
  },
  {
   "cell_type": "markdown",
   "metadata": {},
   "source": [
    "** a) Create a DataFrame from a Numpy array (X) **\n",
    "- Setup column names and the class label\n",
    "- Add a new composite feature, 'area' = 'width' * 'height'\n",
    "- Fix missing values with forward fill method"
   ]
  },
  {
   "cell_type": "code",
   "execution_count": null,
   "metadata": {
    "scrolled": true
   },
   "outputs": [],
   "source": []
  },
  {
   "cell_type": "markdown",
   "metadata": {},
   "source": [
    "** b) Compute the average area of samples with intensity greater than 5:**"
   ]
  },
  {
   "cell_type": "code",
   "execution_count": null,
   "metadata": {},
   "outputs": [],
   "source": [
    "avg_area = ??\n",
    "print(f\"Average area (intensity>5): %.3f\" % avg_area)"
   ]
  },
  {
   "cell_type": "markdown",
   "metadata": {},
   "source": [
    "** c) Compute the following probability: **\n",
    "\n",
    "$$P(label=2 \\ | \\ height<7)$$   "
   ]
  },
  {
   "cell_type": "code",
   "execution_count": null,
   "metadata": {},
   "outputs": [],
   "source": []
  },
  {
   "cell_type": "markdown",
   "metadata": {},
   "source": [
    "**d) Compute the following probability. Use the Naive Bayes technique.**\n",
    "$$P(label=1 \\ | \\ intensity=2 \\land height<6.5)$$"
   ]
  },
  {
   "cell_type": "code",
   "execution_count": null,
   "metadata": {},
   "outputs": [],
   "source": []
  },
  {
   "cell_type": "markdown",
   "metadata": {},
   "source": [
    "** e) Normalize columns with Sklearn standard scaler, fit a random forest **"
   ]
  },
  {
   "cell_type": "code",
   "execution_count": null,
   "metadata": {
    "scrolled": true
   },
   "outputs": [],
   "source": [
    "from sklearn.preprocessing import StandardScaler\n",
    "from sklearn.ensemble import RandomForestClassifier\n"
   ]
  }
 ],
 "metadata": {
  "kernelspec": {
   "display_name": "Python 3",
   "language": "python",
   "name": "python3"
  },
  "language_info": {
   "codemirror_mode": {
    "name": "ipython",
    "version": 3
   },
   "file_extension": ".py",
   "mimetype": "text/x-python",
   "name": "python",
   "nbconvert_exporter": "python",
   "pygments_lexer": "ipython3",
   "version": "3.6.8"
  }
 },
 "nbformat": 4,
 "nbformat_minor": 2
}
